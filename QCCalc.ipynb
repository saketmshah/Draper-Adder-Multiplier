{
 "cells": [
  {
   "cell_type": "code",
   "execution_count": 172,
   "id": "607961ba",
   "metadata": {},
   "outputs": [],
   "source": [
    "from qiskit.circuit import QuantumCircuit, QuantumRegister, AncillaRegister\n",
    "from qiskit.quantum_info import Statevector, Operator\n",
    "from qiskit.circuit.library import QFT\n",
    "from qiskit.visualization import array_to_latex\n",
    "\n",
    "import matplotlib.pyplot as plt\n",
    "\n",
    "import numpy as np"
   ]
  },
  {
   "cell_type": "code",
   "execution_count": 226,
   "id": "2c0efdd6",
   "metadata": {},
   "outputs": [],
   "source": [
    "# implements a controlled phase gate\n",
    "\n",
    "def cp_gate(theta):\n",
    "    quantum_register = QuantumRegister(2, 'x')\n",
    "    quantum_circuit = QuantumCircuit(quantum_register, name = 'cp(pi*' + str(round(theta/np.pi, 3)) + ')')\n",
    "\n",
    "    quantum_circuit.cx(quantum_register[0], quantum_register[1])\n",
    "    quantum_circuit.p(-theta/2,quantum_register[1])\n",
    "    quantum_circuit.cx(quantum_register[0], quantum_register[1])\n",
    "    quantum_circuit.p(theta/2,quantum_register[:])\n",
    "    \n",
    "    return quantum_circuit.to_gate()"
   ]
  },
  {
   "cell_type": "code",
   "execution_count": 227,
   "id": "d1415a6e",
   "metadata": {},
   "outputs": [],
   "source": [
    "# implements 2- and 3-controlled phase gates using controlled phase gates\n",
    "# decomposition of qiskit's implementation of multi-controlled phase gates\n",
    "\n",
    "def ccp_gate(theta): \n",
    "    pos_cp_gate = cp_gate(theta/2)\n",
    "    neg_cp_gate = cp_gate(-theta/2)\n",
    "\n",
    "    quantum_register = QuantumRegister(3, 'x')\n",
    "    quantum_circuit = QuantumCircuit(quantum_register, name = 'ccp(pi*' + str(round(theta/np.pi, 3)) + ')')\n",
    "\n",
    "    quantum_circuit.compose(pos_cp_gate, qubits = quantum_register[1:], inplace=True)\n",
    "    \n",
    "    quantum_circuit.cx(quantum_register[1], quantum_register[0])\n",
    "    quantum_circuit.compose(neg_cp_gate, qubits = [quantum_register[0], quantum_register[2]], inplace=True)\n",
    "    quantum_circuit.cx(quantum_register[1], quantum_register[0])\n",
    "    quantum_circuit.compose(pos_cp_gate, qubits = [quantum_register[0], quantum_register[2]], inplace=True)\n",
    "\n",
    "    return quantum_circuit.to_gate()\n",
    "\n",
    "def cccp_gate(theta):\n",
    "    pos_cp_gate = cp_gate(theta/4)\n",
    "    neg_cp_gate = cp_gate(-theta/4)\n",
    "\n",
    "    quantum_register = QuantumRegister(4, 'x')\n",
    "    quantum_circuit = QuantumCircuit(quantum_register, name = 'cccp(pi*' + str(round(theta/np.pi, 3)) + ')')\n",
    "\n",
    "    quantum_circuit.compose(pos_cp_gate, qubits = quantum_register[2:], inplace=True)\n",
    "    \n",
    "    quantum_circuit.cx(quantum_register[2], quantum_register[1])\n",
    "    quantum_circuit.compose(neg_cp_gate, qubits = [quantum_register[1], quantum_register[3]], inplace=True)\n",
    "    quantum_circuit.cx(quantum_register[2], quantum_register[1])\n",
    "    quantum_circuit.compose(pos_cp_gate, qubits = [quantum_register[1], quantum_register[3]], inplace=True)\n",
    "\n",
    "    quantum_circuit.cx(quantum_register[1], quantum_register[0])\n",
    "    quantum_circuit.compose(neg_cp_gate, qubits = [quantum_register[0], quantum_register[3]], inplace=True)\n",
    "    quantum_circuit.cx(quantum_register[2], quantum_register[0])\n",
    "    quantum_circuit.compose(pos_cp_gate, qubits = [quantum_register[0], quantum_register[3]], inplace=True)\n",
    "\n",
    "    quantum_circuit.cx(quantum_register[1], quantum_register[0])\n",
    "    quantum_circuit.compose(neg_cp_gate, qubits = [quantum_register[0], quantum_register[3]], inplace=True)\n",
    "    quantum_circuit.cx(quantum_register[2], quantum_register[0])\n",
    "    quantum_circuit.compose(pos_cp_gate, qubits = [quantum_register[0], quantum_register[3]], inplace=True)\n",
    "    return quantum_circuit.to_gate()"
   ]
  },
  {
   "cell_type": "code",
   "execution_count": 228,
   "id": "62b8e7c1",
   "metadata": {},
   "outputs": [],
   "source": [
    "# # implements the quantum Fourier transform\n",
    "# # implementation following the algorithm described in Draper's paper on quantum addition\n",
    "# # https://arxiv.org/abs/quant-ph/0008033\n",
    "\n",
    "def qft(n):\n",
    "    \n",
    "    quantum_register = QuantumRegister(size = n, name='x')\n",
    "    quantum_circuit = QuantumCircuit(quantum_register, name = 'QFT' + str(n))\n",
    "\n",
    "    for i in range(n): \n",
    "        quantum_circuit.h(quantum_register[i])\n",
    "        for j in range(i + 1, n):\n",
    "            quantum_circuit.compose(cp_gate(np.pi/(2**(j - i))), qubits = [quantum_register[j], quantum_register[i]], inplace=True)\n",
    "    \n",
    "    # swaps the qubits to put them in the correct order\n",
    "    for i in range(n // 2):\n",
    "        quantum_circuit.swap(quantum_register[i], quantum_register[n - i - 1])\n",
    "\n",
    "    return quantum_circuit.to_gate()\n",
    "\n",
    "# implements the inverse quantum Fourier transform using phase gates and cx gates\n",
    "def qft_inverse(n):\n",
    "    quantum_register = QuantumRegister(size = n, name='x')\n",
    "    quantum_circuit = QuantumCircuit(quantum_register, name = 'IOFT' + str(n))\n",
    "    \n",
    "    for i in range(n // 2):\n",
    "        quantum_circuit.swap(quantum_register[i], quantum_register[n - i - 1])\n",
    "    \n",
    "    for i in reversed(range(n)): \n",
    "        for j in reversed(range(i + 1, n)):\n",
    "            quantum_circuit.compose(cp_gate(-np.pi/(2**(j - i))), qubits = [quantum_register[i], quantum_register[j]], inplace=True)\n",
    "        quantum_circuit.h(quantum_register[i])\n",
    "\n",
    "    return quantum_circuit.to_gate()\n"
   ]
  },
  {
   "cell_type": "code",
   "execution_count": null,
   "id": "a868e52c",
   "metadata": {},
   "outputs": [],
   "source": [
    "# implements modified Draper algorithm for quantum addition and multiplication\n",
    "# using the quantum Fourier transform and inverse quantum Fourier transform\n",
    "# the algorithm is used to (depending on z) add or multiply two d-bit numbers x and y and add the result to the output register w\n",
    "def QCalc(d):\n",
    "    # x and y are the two numbers to be added or multiplied\n",
    "    # z is the operation to be performed (0 for addition, 1 for multiplication)\n",
    "    # w/output_register is the result of the operation\n",
    "    x_register = QuantumRegister(size = d, name = 'x')\n",
    "    y_register = QuantumRegister(size = d, name = 'y')\n",
    "    z_register = QuantumRegister(size = 1, name = 'z')\n",
    "    output_register = QuantumRegister(size = d, name = 'w')\n",
    "\n",
    "    quantum_circuit = QuantumCircuit(x_register, y_register, z_register, output_register)\n",
    "\n",
    "    # convert output register to phase space\n",
    "    quantum_circuit.compose(qft(d), qubits = output_register, inplace = True)\n",
    "\n",
    "    # decomposes the scaling |x,y,z,w> \\mapsto e^{2*pi*i*(xyzw + (x+y)(z-1)w)/2^d}*|x,y,z,w> into a series of 2- and 3-controlled phase gates\n",
    "    # for z = 0, the operation recovers addition, for z = 1, the operation recovers multiplication\n",
    "    # writing x = 2^{d-1}*x_{d-1} + 2^{d-2}*x_{d-2} + ... + 2^0*x_0, y, w analogous\n",
    "    \n",
    "    # multiplication part: runs for z = 1\n",
    "    # decompose into phase shifts by (2*pi*i/2^d) * 2^t*x_i*y_j*z*w_k for t = i+j+k, 0 <= t <= d-1 (since operations are modulo 2^d)\n",
    "    for t in range(d):\n",
    "        phase_shift = cccp_gate(np.pi/(2**(d - 1 - t)))\n",
    "        for i in range(t + 1):\n",
    "            for j in range(t - i + 1):\n",
    "                k = t - i - j\n",
    "                quantum_circuit.compose(phase_shift, qubits = [x_register[d - 1 - i], y_register[d - 1 - j], z_register[0], output_register[d - 1 - k]], inplace=True)\n",
    "    \n",
    "\n",
    "    # addition part: runs for z = 0\n",
    "    # decompose into phase shifts by (2*pi*i/2^d) * 2^t*x_i*z*w_j for t = i+j, 0 <= t <= d-1, or (2*pi*i/2^d) * 2^t*y_i*z*w_j\n",
    "    quantum_circuit.x(z_register[0])\n",
    "    for t in range(d):\n",
    "        phase_shift = ccp_gate(np.pi/(2**(d - 1 - t)))\n",
    "        for i in range(t + 1):\n",
    "            j = t - i\n",
    "            quantum_circuit.compose(phase_shift, qubits = [x_register[d - 1 - i], z_register[0], output_register[d - 1 - j]], inplace=True)\n",
    "            quantum_circuit.compose(phase_shift, qubits = [y_register[d - 1 - i], z_register[0], output_register[d - 1 - j]], inplace=True)\n",
    "    quantum_circuit.x(z_register[0])\n",
    "\n",
    "    # convert output register back to computational space\n",
    "    quantum_circuit.compose(qft_inverse(d), qubits = output_register, inplace = True)\n",
    "    return quantum_circuit"
   ]
  },
  {
   "cell_type": "markdown",
   "id": "da1feb36",
   "metadata": {},
   "source": [
    "Note that for the benchmarking, the qubits should be read backwards, i.e. if we are working with QCalc(3) as in the first example below, then $$|0001001001\\rangle $$ should be interpreted as $$| 100 \\rangle | 100 \\rangle |1\\rangle |000 \\rangle.$$"
   ]
  },
  {
   "cell_type": "code",
   "execution_count": 221,
   "id": "0db1d9ae",
   "metadata": {},
   "outputs": [
    {
     "data": {
      "text/latex": [
       "$$ |0001001001\\rangle$$"
      ],
      "text/plain": [
       "<IPython.core.display.Latex object>"
      ]
     },
     "execution_count": 221,
     "metadata": {},
     "output_type": "execute_result"
    }
   ],
   "source": [
    "# benchmarking the quantum calculator\n",
    "\n",
    "x_register = QuantumRegister(3, 'x')\n",
    "y_register = QuantumRegister(3, 'y')\n",
    "z_register = QuantumRegister(1, 'z')\n",
    "output_register = QuantumRegister(3, 'w')\n",
    "\n",
    "quantum_circuit = QuantumCircuit(x_register, y_register, z_register, output_register)\n",
    "\n",
    "quantum_calculator_gate = QCalc(3).to_gate()\n",
    "quantum_circuit.x([x_register[0], y_register[0], z_register[0]])\n",
    "quantum_circuit.compose(quantum_calculator_gate, qubits = x_register[:] + y_register[:] + z_register[:] + output_register[:], inplace = True)\n",
    "\n",
    "Statevector(quantum_circuit).draw('latex')\n"
   ]
  },
  {
   "cell_type": "markdown",
   "id": "9202b9d4",
   "metadata": {},
   "source": [
    "$$4\\times 4 = 0 \\text{ mod } 8$$"
   ]
  },
  {
   "cell_type": "code",
   "execution_count": 194,
   "id": "885a5240",
   "metadata": {},
   "outputs": [
    {
     "data": {
      "text/latex": [
       "$$ |0010010010\\rangle$$"
      ],
      "text/plain": [
       "<IPython.core.display.Latex object>"
      ]
     },
     "execution_count": 194,
     "metadata": {},
     "output_type": "execute_result"
    }
   ],
   "source": [
    "# benchmarking the quantum calculator\n",
    "\n",
    "x_register = QuantumRegister(3, 'x')\n",
    "y_register = QuantumRegister(3, 'y')\n",
    "z_register = QuantumRegister(1, 'z')\n",
    "output_register = QuantumRegister(3, 'w')\n",
    "\n",
    "quantum_circuit = QuantumCircuit(x_register, y_register, z_register, output_register)\n",
    "\n",
    "quantum_calculator_gate = QCalc(3).to_gate()\n",
    "quantum_circuit.x([x_register[1], y_register[1]])\n",
    "quantum_circuit.compose(quantum_calculator_gate, qubits = x_register[:] + y_register[:] + z_register[:] + output_register[:], inplace = True)\n",
    "\n",
    "Statevector(quantum_circuit).draw('latex')\n"
   ]
  },
  {
   "cell_type": "markdown",
   "id": "bc7ea785",
   "metadata": {},
   "source": [
    "$$2 + 2 = 4$$"
   ]
  },
  {
   "cell_type": "code",
   "execution_count": 231,
   "id": "7d35b4fd",
   "metadata": {},
   "outputs": [
    {
     "data": {
      "text/latex": [
       "$$ |0011110001\\rangle$$"
      ],
      "text/plain": [
       "<IPython.core.display.Latex object>"
      ]
     },
     "execution_count": 231,
     "metadata": {},
     "output_type": "execute_result"
    }
   ],
   "source": [
    "# benchmarking the quantum calculator\n",
    "\n",
    "x_register = QuantumRegister(3, 'x')\n",
    "y_register = QuantumRegister(3, 'y')\n",
    "z_register = QuantumRegister(1, 'z')\n",
    "output_register = QuantumRegister(3, 'w')\n",
    "\n",
    "quantum_circuit = QuantumCircuit(x_register, y_register, z_register, output_register)\n",
    "\n",
    "quantum_calculator_gate = QCalc(3).to_gate()\n",
    "quantum_circuit.x([x_register[0] , y_register[1], y_register[2], z_register[0]])\n",
    "\n",
    "quantum_circuit.compose(quantum_calculator_gate, qubits = x_register[:] + y_register[:] + z_register[:] + output_register[:], inplace = True)\n",
    "\n",
    "Statevector(quantum_circuit).draw('latex')\n",
    "\n",
    "\n",
    "\n"
   ]
  },
  {
   "cell_type": "markdown",
   "id": "e7d83865",
   "metadata": {},
   "source": [
    "$$4 \\times 3 = 12 \\equiv 4 \\text{ mod } 8$$"
   ]
  },
  {
   "cell_type": "code",
   "execution_count": null,
   "id": "be15ffb4",
   "metadata": {},
   "outputs": [
    {
     "data": {
      "text/latex": [
       "$$ |1010111001110\\rangle$$"
      ],
      "text/plain": [
       "<IPython.core.display.Latex object>"
      ]
     },
     "execution_count": 232,
     "metadata": {},
     "output_type": "execute_result"
    }
   ],
   "source": [
    "# benchmarking the quantum calculator\n",
    "\n",
    "x_register = QuantumRegister(4, 'x')\n",
    "y_register = QuantumRegister(4, 'y')\n",
    "z_register = QuantumRegister(1, 'z')\n",
    "output_register = QuantumRegister(4, 'w')\n",
    "\n",
    "quantum_circuit = QuantumCircuit(x_register, y_register, z_register, output_register)\n",
    "\n",
    "quantum_calculator_gate = QCalc(4).to_gate()\n",
    "quantum_circuit.x([x_register[1], x_register[2], x_register[3] , y_register[2], y_register[3], z_register[0]])\n",
    "\n",
    "quantum_circuit.compose(quantum_calculator_gate, qubits = x_register[:] + y_register[:] + z_register[:] + output_register[:], inplace = True)\n",
    "\n",
    "Statevector(quantum_circuit).draw('latex')"
   ]
  },
  {
   "cell_type": "markdown",
   "id": "d32b2503",
   "metadata": {},
   "source": [
    "$$7 \\times 3 = 21 \\equiv 5 \\text{ mod } 16$$"
   ]
  },
  {
   "cell_type": "code",
   "execution_count": 233,
   "id": "d6271806",
   "metadata": {},
   "outputs": [
    {
     "data": {
      "text/latex": [
       "$$ |0101011001110\\rangle$$"
      ],
      "text/plain": [
       "<IPython.core.display.Latex object>"
      ]
     },
     "execution_count": 233,
     "metadata": {},
     "output_type": "execute_result"
    }
   ],
   "source": [
    "# benchmarking the quantum calculator\n",
    "\n",
    "x_register = QuantumRegister(4, 'x')\n",
    "y_register = QuantumRegister(4, 'y')\n",
    "z_register = QuantumRegister(1, 'z')\n",
    "output_register = QuantumRegister(4, 'w')\n",
    "\n",
    "quantum_circuit = QuantumCircuit(x_register, y_register, z_register, output_register)\n",
    "\n",
    "quantum_calculator_gate = QCalc(4).to_gate()\n",
    "quantum_circuit.x([x_register[1], x_register[2], x_register[3] , y_register[2], y_register[3]])\n",
    "\n",
    "quantum_circuit.compose(quantum_calculator_gate, qubits = x_register[:] + y_register[:] + z_register[:] + output_register[:], inplace = True)\n",
    "\n",
    "Statevector(quantum_circuit).draw('latex')"
   ]
  },
  {
   "cell_type": "markdown",
   "id": "684ea2c4",
   "metadata": {},
   "source": [
    "$$7 + 3 = 10$$"
   ]
  },
  {
   "cell_type": "code",
   "execution_count": 235,
   "id": "ed83a398",
   "metadata": {},
   "outputs": [
    {
     "data": {
      "text/latex": [
       "$$ |0000011100011010\\rangle$$"
      ],
      "text/plain": [
       "<IPython.core.display.Latex object>"
      ]
     },
     "execution_count": 235,
     "metadata": {},
     "output_type": "execute_result"
    }
   ],
   "source": [
    "# benchmarking the quantum calculator\n",
    "\n",
    "x_register = QuantumRegister(5, 'x')\n",
    "y_register = QuantumRegister(5, 'y')\n",
    "z_register = QuantumRegister(1, 'z')\n",
    "output_register = QuantumRegister(5, 'w')\n",
    "\n",
    "quantum_circuit = QuantumCircuit(x_register, y_register, z_register, output_register)\n",
    "\n",
    "quantum_calculator_gate = QCalc(5).to_gate()\n",
    "quantum_circuit.x([x_register[1], x_register[3], x_register[4] , y_register[3], y_register[4], z_register[0]] + output_register[:])\n",
    "\n",
    "quantum_circuit.compose(quantum_calculator_gate, qubits = x_register[:] + y_register[:] + z_register[:] + output_register[:], inplace = True)\n",
    "\n",
    "Statevector(quantum_circuit).draw('latex')"
   ]
  },
  {
   "cell_type": "markdown",
   "id": "a44ff263",
   "metadata": {},
   "source": [
    "Note the initialization of the output register as $11111$, which should be interpreted as $31$. So the calculation above is \n",
    "$$ 11 \\times 3 + 31 = 64 \\equiv 0 \\text{ mod } 32. $$"
   ]
  }
 ],
 "metadata": {
  "kernelspec": {
   "display_name": "Python 3",
   "language": "python",
   "name": "python3"
  },
  "language_info": {
   "codemirror_mode": {
    "name": "ipython",
    "version": 3
   },
   "file_extension": ".py",
   "mimetype": "text/x-python",
   "name": "python",
   "nbconvert_exporter": "python",
   "pygments_lexer": "ipython3",
   "version": "3.13.2"
  }
 },
 "nbformat": 4,
 "nbformat_minor": 5
}
